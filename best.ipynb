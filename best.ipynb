{
 "cells": [
  {
   "cell_type": "code",
   "execution_count": 1,
   "metadata": {},
   "outputs": [],
   "source": [
    "from cryptodata import *"
   ]
  },
  {
   "cell_type": "code",
   "execution_count": 2,
   "metadata": {},
   "outputs": [],
   "source": [
    "name = 'binance_btc_30m'\n",
    "#df = get_market(exchange='binance',market='btc',start_date='1 year ago',interval='30m')\n",
    "#to_pickle(df,name)"
   ]
  },
  {
   "cell_type": "code",
   "execution_count": 75,
   "metadata": {},
   "outputs": [],
   "source": [
    "df = read_pickle(name)\n",
    "dfc = get_closes(df).pct_change().dropna()"
   ]
  },
  {
   "cell_type": "code",
   "execution_count": 87,
   "metadata": {},
   "outputs": [
    {
     "name": "stdout",
     "output_type": "stream",
     "text": [
      "hours=1 window=1, final=-55.7459668152\n",
      "hours=1 window=2, final=-52.892279179\n",
      "hours=1 window=3, final=-48.5959996802\n",
      "hours=1 window=4, final=-44.7524234213\n",
      "hours=1 window=5, final=-47.2517143291\n",
      "hours=1 window=6, final=-37.8429455951\n",
      "hours=1 window=7, final=-35.8057083521\n",
      "hours=1 window=8, final=-35.2536372883\n",
      "hours=1 window=9, final=-30.4858427906\n",
      "hours=1 window=10, final=-31.9165277956\n",
      "hours=2 window=1, final=-33.4121534782\n",
      "hours=2 window=2, final=-30.4272808854\n",
      "hours=2 window=3, final=-26.0012089467\n",
      "hours=2 window=4, final=-23.483776664\n",
      "hours=2 window=5, final=-20.668729815\n",
      "hours=2 window=6, final=-13.2749379001\n",
      "hours=2 window=7, final=-7.42379871286\n",
      "hours=2 window=8, final=-2.03516326467\n",
      "hours=2 window=9, final=-0.790421855614\n",
      "hours=2 window=10, final=2.94141373145\n",
      "hours=3 window=1, final=-18.970097712\n",
      "hours=3 window=2, final=-15.7328984272\n",
      "hours=3 window=3, final=-9.55464651376\n",
      "hours=3 window=4, final=-4.85245187439\n",
      "hours=3 window=5, final=5.943989137\n",
      "hours=3 window=6, final=8.50460526299\n",
      "hours=3 window=7, final=11.4096993321\n",
      "hours=3 window=8, final=4.92054726228\n",
      "hours=3 window=9, final=1.53589713874\n",
      "hours=3 window=10, final=3.69544433661\n",
      "hours=4 window=1, final=-16.2359318866\n",
      "hours=4 window=2, final=-8.75015875621\n",
      "hours=4 window=3, final=-1.38280839418\n",
      "hours=4 window=4, final=2.73939194423\n",
      "hours=4 window=5, final=11.9218147553\n",
      "hours=4 window=6, final=7.50656748067\n",
      "hours=4 window=7, final=5.44177535014\n",
      "hours=4 window=8, final=2.60852370226\n",
      "hours=4 window=9, final=3.6626033384\n",
      "hours=4 window=10, final=4.69220886853\n",
      "hours=5 window=1, final=-6.93882785728\n",
      "hours=5 window=2, final=-0.899804514349\n",
      "hours=5 window=3, final=6.05170523199\n",
      "hours=5 window=4, final=8.54369156698\n",
      "hours=5 window=5, final=6.26246913278\n",
      "hours=5 window=6, final=3.52199131842\n",
      "hours=5 window=7, final=4.36884850958\n",
      "hours=5 window=8, final=4.00312795191\n",
      "hours=5 window=9, final=-0.673649378617\n",
      "hours=5 window=10, final=0.925835213855\n",
      "hours=6 window=1, final=-5.68320212436\n",
      "hours=6 window=2, final=1.49611854792\n",
      "hours=6 window=3, final=9.95116797544\n",
      "hours=6 window=4, final=7.73584521625\n",
      "hours=6 window=5, final=6.47386459812\n",
      "hours=6 window=6, final=5.25246126304\n",
      "hours=6 window=7, final=6.68244184025\n",
      "hours=6 window=8, final=4.35056057301\n",
      "hours=6 window=9, final=2.62306308258\n",
      "hours=6 window=10, final=4.68871586332\n",
      "hours=7 window=1, final=-6.37797928651\n",
      "hours=7 window=2, final=5.13295914316\n",
      "hours=7 window=3, final=9.2367498767\n",
      "hours=7 window=4, final=5.75751831347\n",
      "hours=7 window=5, final=3.82556201883\n",
      "hours=7 window=6, final=3.96508838352\n",
      "hours=7 window=7, final=2.63809507563\n",
      "hours=7 window=8, final=5.12812811466\n",
      "hours=7 window=9, final=4.09168413559\n",
      "hours=7 window=10, final=3.16845952611\n",
      "hours=8 window=1, final=4.70834934087\n",
      "hours=8 window=2, final=12.8924258592\n",
      "hours=8 window=3, final=11.5181881861\n",
      "hours=8 window=4, final=7.81199058171\n",
      "hours=8 window=5, final=9.21379862273\n",
      "hours=8 window=6, final=4.05552681082\n",
      "hours=8 window=7, final=8.32273453177\n",
      "hours=8 window=8, final=8.65881385209\n",
      "hours=8 window=9, final=5.41755736158\n",
      "hours=8 window=10, final=4.86288518482\n",
      "hours=9 window=1, final=8.19703212223\n",
      "hours=9 window=2, final=12.7368844464\n",
      "hours=9 window=3, final=5.10005015327\n",
      "hours=9 window=4, final=6.15019854036\n",
      "hours=9 window=5, final=4.11671837074\n",
      "hours=9 window=6, final=6.44079591365\n",
      "hours=9 window=7, final=7.41200629465\n",
      "hours=9 window=8, final=5.03014062387\n",
      "hours=9 window=9, final=7.60207760716\n",
      "hours=9 window=10, final=9.49105980262\n",
      "hours=10 window=1, final=4.85512235166\n",
      "hours=10 window=2, final=13.8752980248\n",
      "hours=10 window=3, final=6.05109455395\n",
      "hours=10 window=4, final=6.37075750216\n",
      "hours=10 window=5, final=3.36737904669\n",
      "hours=10 window=6, final=5.74767834473\n",
      "hours=10 window=7, final=3.62561869798\n",
      "hours=10 window=8, final=3.07469040076\n",
      "hours=10 window=9, final=10.4730654675\n",
      "hours=10 window=10, final=8.45439253599\n",
      "hours=11 window=1, final=11.4003518132\n",
      "hours=11 window=2, final=9.16538027888\n",
      "hours=11 window=3, final=7.92930994717\n",
      "hours=11 window=4, final=2.36351175991\n",
      "hours=11 window=5, final=5.36086427509\n",
      "hours=11 window=6, final=7.09058623078\n",
      "hours=11 window=7, final=5.00951413367\n",
      "hours=11 window=8, final=9.6659034921\n",
      "hours=11 window=9, final=9.02567898307\n",
      "hours=11 window=10, final=8.25249812225\n",
      "hours=12 window=1, final=9.2443356733\n",
      "hours=12 window=2, final=9.45401723625\n",
      "hours=12 window=3, final=4.48147356271\n",
      "hours=12 window=4, final=5.38846070333\n",
      "hours=12 window=5, final=6.65980264156\n",
      "hours=12 window=6, final=5.86642908723\n",
      "hours=12 window=7, final=11.5988092306\n",
      "hours=12 window=8, final=10.8081164029\n",
      "hours=12 window=9, final=11.7150421938\n",
      "hours=12 window=10, final=8.77836418924\n",
      "hours=13 window=1, final=10.8763298057\n",
      "hours=13 window=2, final=12.6928628358\n",
      "hours=13 window=3, final=7.82913551704\n",
      "hours=13 window=4, final=8.25354331533\n",
      "hours=13 window=5, final=7.58221318923\n",
      "hours=13 window=6, final=7.7753337022\n",
      "hours=13 window=7, final=10.3358257491\n",
      "hours=13 window=8, final=11.1895289887\n",
      "hours=13 window=9, final=7.58971625784\n",
      "hours=13 window=10, final=7.41279613869\n",
      "hours=14 window=1, final=10.0013288878\n",
      "hours=14 window=2, final=7.11425656596\n",
      "hours=14 window=3, final=3.71760775235\n",
      "hours=14 window=4, final=5.3418313892\n",
      "hours=14 window=5, final=5.67641646253\n",
      "hours=14 window=6, final=8.55685779572\n",
      "hours=14 window=7, final=10.1656206703\n",
      "hours=14 window=8, final=8.11942616088\n",
      "hours=14 window=9, final=7.32035568458\n",
      "hours=14 window=10, final=5.10481368567\n",
      "hours=15 window=1, final=9.87701624447\n",
      "hours=15 window=2, final=4.17782830956\n",
      "hours=15 window=3, final=5.60081540133\n",
      "hours=15 window=4, final=4.89217455694\n",
      "hours=15 window=5, final=4.92762464783\n",
      "hours=15 window=6, final=7.86819769625\n",
      "hours=15 window=7, final=7.81942170884\n",
      "hours=15 window=8, final=5.88541475261\n",
      "hours=15 window=9, final=6.73135060612\n",
      "hours=15 window=10, final=9.06033591954\n"
     ]
    }
   ],
   "source": [
    "for hour in range(1,16):\n",
    "    df = read_pickle(name)\n",
    "    dfc = get_closes(df).pct_change().dropna()\n",
    "    dfc = dfc.resample('{}h'.format(hour)).sum()\n",
    "    for window in range(1,11):\n",
    "        tmp = dfc.rolling(window).sum().idxmax(axis=1).shift(1).dropna()\n",
    "        final = pd.Series(dfc.lookup(tmp.index,tmp.values)).cumsum().tail(1)\n",
    "        print 'hours={} window={}, final={}'.format(hour,window,final.values[0])"
   ]
  },
  {
   "cell_type": "code",
   "execution_count": 100,
   "metadata": {},
   "outputs": [
    {
     "data": {
      "image/png": "[encoded data removed]",
      "text/plain": [
       "<matplotlib.figure.Figure at 0x121c44f10>"
      ]
     },
     "metadata": {},
     "output_type": "display_data"
    }
   ],
   "source": [
    "hour = 24\n",
    "window = 30\n",
    "df = read_pickle(name)\n",
    "dfc = get_closes(df).pct_change().dropna()\n",
    "dfc = dfc.resample('{}h'.format(hour)).sum()\n",
    "tmp = dfc.rolling(window).sum().idxmax(axis=1).shift(1).dropna()\n",
    "final = pd.Series(dfc.lookup(tmp.index,tmp.values)).cumsum().plot()"
   ]
  },
  {
   "cell_type": "code",
   "execution_count": 74,
   "metadata": {},
   "outputs": [
    {
     "data": {
      "text/plain": [
       "233"
      ]
     },
     "execution_count": 74,
     "metadata": {},
     "output_type": "execute_result"
    }
   ],
   "source": [
    "(700*8)/24"
   ]
  },
  {
   "cell_type": "code",
   "execution_count": null,
   "metadata": {
    "collapsed": true
   },
   "outputs": [],
   "source": []
  }
 ],
 "metadata": {
  "kernelspec": {
   "display_name": "Python 2",
   "language": "python",
   "name": "python2"
  },
  "language_info": {
   "codemirror_mode": {
    "name": "ipython",
    "version": 2
   },
   "file_extension": ".py",
   "mimetype": "text/x-python",
   "name": "python",
   "nbconvert_exporter": "python",
   "pygments_lexer": "ipython2",
   "version": "2.7.13"
  }
 },
 "nbformat": 4,
 "nbformat_minor": 2
}
